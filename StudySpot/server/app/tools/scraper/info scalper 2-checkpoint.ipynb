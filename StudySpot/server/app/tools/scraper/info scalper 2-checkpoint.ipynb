{
 "cells": [
  {
   "cell_type": "markdown",
   "id": "aaeb8b05-e6a2-4937-9145-b18c27d20e41",
   "metadata": {
    "tags": []
   },
   "source": [
    "# Working Info Retriver for EmptyRooms at YorkU\n",
    "\n",
    "Retrieves the schedule info of all courses from York courses website"
   ]
  },
  {
   "cell_type": "code",
   "execution_count": 9,
   "id": "7eb8280c-2389-4b7e-9264-2ccc241d2b26",
   "metadata": {},
   "outputs": [],
   "source": [
    "import os\n",
    "import re\n",
    "import json\n",
    "from bs4 import BeautifulSoup\n",
    "import unicodedata\n",
    "import chardet\n",
    "\n",
    "from selenium import webdriver\n",
    "\n",
    "from datetime import datetime"
   ]
  },
  {
   "cell_type": "markdown",
   "id": "8fcb7838-a0b4-42c7-a7ba-7a5312fc7ee0",
   "metadata": {},
   "source": [
    "### Step 1: preperation"
   ]
  },
  {
   "cell_type": "code",
   "execution_count": 2,
   "id": "9066a05c-91c7-4aad-ac93-666427b0062b",
   "metadata": {},
   "outputs": [],
   "source": [
    "driver = webdriver.Firefox()"
   ]
  },
  {
   "cell_type": "code",
   "execution_count": 3,
   "id": "edc17c96-cd8c-40c7-9ea5-91cdedacd36e",
   "metadata": {},
   "outputs": [],
   "source": [
    "course_site_url = r\"https://w2prod.sis.yorku.ca/Apps/WebObjects/cdm\"\n",
    "base_site_url = r\"https://w2prod.sis.yorku.ca\""
   ]
  },
  {
   "cell_type": "code",
   "execution_count": 4,
   "id": "4ea49e6c-4980-4f3d-ae6e-c85f4cb8fd47",
   "metadata": {},
   "outputs": [],
   "source": [
    "driver.get(course_site_url)"
   ]
  },
  {
   "cell_type": "markdown",
   "id": "65fed2f7-a545-4af7-9f52-d10a0f8e51cd",
   "metadata": {},
   "source": [
    "Follow the following instructions\n",
    "\n",
    "- Login with your York account manually.\n",
    "- Navigate to \"View Active Course Timetables by Faculty\".\n",
    "- Download all Course Timetable pages of each faculty from the page (by clicking `Ctrl + S`), store them in a single directory."
   ]
  },
  {
   "cell_type": "markdown",
   "id": "3459229b-5b1c-44d9-a592-4ed3e4c651e0",
   "metadata": {},
   "source": [
    "### Step 2: Active Course Timetables html to per dept file"
   ]
  },
  {
   "cell_type": "markdown",
   "id": "b525fa4b-1c63-4da0-8817-48e35d66b982",
   "metadata": {},
   "source": [
    "Change the following strings to directory names:\n",
    "\n",
    "`input_dir` is where you downloaded the html table files in\\\n",
    "`output_dir` is where you want to output the `<DEPT>.json` files\\\n",
    "they will be in the CourseDelta data files format but without the descriptions and with schedule data\\\n",
    "\n",
    "`dept_list_file` should point to a .txt file that looks like:\n",
    "```\n",
    "<select size=\"10\" class=\"bodytext\" id=\"subjectSelect\" name=\"subjectPopUp\"><option selected=\"selected\" value=\"0\">ACTG - Accounting - ( SB, ED ) </option><option value=\"1\">ADLW - Administrative Law - ( GS ) </option><option value=\"2\">ADMS - Administrative Studies - ( AP ) </option><option value=\"3\">ALDR - Dispute Resolution - ( GS ) </option><option value=\"4\">ANTH - Anthropology - ( AP, GS ) </option><option value=\"5\">ARB  - Arabic - ( AP ) </option><option value=\"6\">ARTH - Art History - ( FA, GS ) </option><option value=\"7\">ARTM - Arts and Media - ( SB ) </option>\n",
    "\n",
    "...\n",
    "```\n",
    "\n",
    "which is the html elements plain text in the 'Subject' option list in 'Search Current Courses by Subject' page\\\n",
    "(tips: Inspect element -> `Ctrl + C` the whole `<select id=\"subjectSelect\" ...>` tag)"
   ]
  },
  {
   "cell_type": "code",
   "execution_count": 13,
   "id": "d9ea4ff0-3453-4176-a20d-31e83a05ea97",
   "metadata": {},
   "outputs": [],
   "source": [
    "input_dir = 'active schedules 2023_09_12'\n",
    "output_dir = 'output_courses_json 2023_09_12 b'\n",
    "dept_list_file = 'dept_list_f2023_w2024.txt'"
   ]
  },
  {
   "cell_type": "markdown",
   "id": "24f32721-1eb1-4dc8-a3e5-31124d934e13",
   "metadata": {},
   "source": [
    "this opens the .html files and read them to python code space"
   ]
  },
  {
   "cell_type": "code",
   "execution_count": 11,
   "id": "cd7a51ef-5bb3-4109-8d77-3df2be6e4d5f",
   "metadata": {},
   "outputs": [],
   "source": [
    "lis = os.listdir(input_dir)\n",
    "\n",
    "faculties = {}\n",
    "\n",
    "for fname in lis:\n",
    "    if fname[-5:] != '.html':\n",
    "        continue\n",
    "    \n",
    "    # detect encoding first\n",
    "    f = open(os.path.join(input_dir,fname), 'rb')\n",
    "    # f = open(os.path.join(input_dir,fname), 'r', encoding=\"utf-8\")\n",
    "    content = f.read()\n",
    "    f.close()\n",
    "    encoding = chardet.detect(content)['encoding']\n",
    "    \n",
    "    # then read as string\n",
    "    f = open(os.path.join(input_dir,fname), 'r', encoding=encoding)\n",
    "    content = f.read()\n",
    "    f.close()\n",
    "    \n",
    "    faculty = fname[-7:-5]\n",
    "    faculties[faculty] = content"
   ]
  },
  {
   "cell_type": "code",
   "execution_count": 12,
   "id": "811d0166-0fe7-446a-a25a-e342b016836d",
   "metadata": {
    "tags": []
   },
   "outputs": [],
   "source": [
    "#faculties['ED']"
   ]
  },
  {
   "cell_type": "markdown",
   "id": "5c2b71cb-35ad-49a2-8a23-fd72129f929f",
   "metadata": {},
   "source": [
    "this parses the html files and read all schedule to python objects/dicts"
   ]
  },
  {
   "cell_type": "code",
   "execution_count": 14,
   "id": "e96550d7-5693-497a-9394-86bd37a4405a",
   "metadata": {},
   "outputs": [],
   "source": [
    "depts = {}"
   ]
  },
  {
   "cell_type": "code",
   "execution_count": 15,
   "id": "f028bd3d-b337-495d-8690-3e2cceca9ec3",
   "metadata": {
    "tags": []
   },
   "outputs": [],
   "source": [
    "cur_faculty = ''\n",
    "cur_dept = ''\n",
    "cur_term = ''\n",
    "cur_course_title = ''\n",
    "\n",
    "for f in faculties:\n",
    "    soup = BeautifulSoup(faculties[f], 'html.parser')\n",
    "    main_table = soup.find_all('tr', {\"bgcolor\": \"#000000\"})[0].parent\n",
    "    main_table_rows = main_table.findChildren(recursive=False)\n",
    "    \n",
    "    for row in main_table_rows[1:]:\n",
    "        if len(row.find_all('td', {\"colspan\": \"8\"})) > 0:\n",
    "            texts = row.find_all('strong')\n",
    "            cur_faculty = texts[0].text.strip()\n",
    "            cur_dept = texts[1].text.strip()\n",
    "            cur_term = texts[2].text.strip()\n",
    "            cur_course_title = texts[3].text.strip()\n",
    "            \n",
    "            #print(cur_faculty_dept)\n",
    "            \n",
    "        else:\n",
    "            tds = row.findChildren(recursive=False)\n",
    "            \n",
    "            if tds[0].get(\"colspan\") == \"5\":\n",
    "                mtype = tds[1].text.strip()\n",
    "                mnumb = tds[2].text.strip()\n",
    "                details = tds[4]\n",
    "            else:\n",
    "                codes = tds[1].text.strip()\n",
    "                sp = re.sub('\\s+', ' ', codes).split(' ')\n",
    "                ccode = sp[0]\n",
    "                cred = sp[1]\n",
    "                sect = sp[2]\n",
    "            \n",
    "                mtype = tds[3].text.strip()\n",
    "                mnumb = tds[4].text.strip()\n",
    "                details = tds[6]\n",
    "            \n",
    "            \n",
    "            \n",
    "            ckey = {'faculty': cur_faculty, 'dept': cur_dept, 'code': ccode, 'credit': float(cred)}\n",
    "            if cur_dept not in depts:\n",
    "                depts[cur_dept] = {}\n",
    "            if str(ckey) not in depts[cur_dept]:\n",
    "                depts[cur_dept][str(ckey)] = {'key': ckey, 'name': cur_course_title, 'desc': '', 'prereq':[], 'schedule':{}}\n",
    "            #print(depts[cur_dept])\n",
    "            if cur_term+'-'+sect not in depts[cur_dept][str(ckey)]['schedule']:\n",
    "                depts[cur_dept][str(ckey)]['schedule'][cur_term+'-'+sect] = {'term': cur_term, 'section': sect, 'classes':{}}\n",
    "            if mtype+\" \"+mnumb not in depts[cur_dept][str(ckey)]['schedule'][cur_term+'-'+sect]['classes']:\n",
    "                depts[cur_dept][str(ckey)]['schedule'][cur_term+'-'+sect]['classes'][mtype+\" \"+mnumb] = {'name':mtype+\" \"+mnumb, 'timeslot':[]}\n",
    "            \n",
    "            if len(details.findChildren(recursive=False)) > 0:\n",
    "                details_rows = details.find_all('tr')\n",
    "            \n",
    "                for dr in details_rows:\n",
    "                    ds = dr.find_all('td')\n",
    "                    weekday = ds[0].text.strip()\n",
    "                    time = ds[1].text.strip()\n",
    "                    duration = ds[2].text.strip()\n",
    "                    campus = ds[3].text.strip()\n",
    "                    room = ds[4].text.strip()\n",
    "                    depts[cur_dept][str(ckey)]['schedule'][cur_term+'-'+sect]['classes'][mtype+\" \"+mnumb]['timeslot'].append({'weekday': weekday, 'time': time, 'duration': duration, 'room': room, 'campus': campus})\n",
    "            else:\n",
    "                weekday = ''\n",
    "                time = ''\n",
    "                duration = ''\n",
    "                campus = ''\n",
    "                room = ''\n",
    "                depts[cur_dept][str(ckey)]['schedule'][cur_term+'-'+sect]['classes'][mtype+\" \"+mnumb]['timeslot'].append({'weekday': weekday, 'time': time, 'duration': duration, 'room': room, 'campus': campus})\n",
    "            \n",
    "            #depts[cur_dept][str(ckey)]['schedule'][cur_term+'-'+sect]['classes'][mtype+\" \"+mnumb]['timeslot'].append({'weekday': weekday, 'time': time, 'duration': duration, 'room': room, 'campus': campus})\n",
    "            \n",
    "            #print(ccode, cred, sect, mtype, mnumb, weekday, time, duration, campus, room)\n",
    "            # break"
   ]
  },
  {
   "cell_type": "code",
   "execution_count": 16,
   "id": "af9b47dd-56d0-4ce0-b3e4-45460dd8fffb",
   "metadata": {
    "tags": []
   },
   "outputs": [],
   "source": [
    "#depts['ADMS'][\"{'faculty': 'AP', 'dept': 'ADMS', 'code': '1000', 'credit': 3.0}\"]"
   ]
  },
  {
   "cell_type": "code",
   "execution_count": 17,
   "id": "a06d6a7b-875d-42d5-89b8-6fb5f883aa6c",
   "metadata": {},
   "outputs": [
    {
     "name": "stdout",
     "output_type": "stream",
     "text": [
      "number of depts: 207\n"
     ]
    }
   ],
   "source": [
    "print('number of depts:', len(depts))"
   ]
  },
  {
   "cell_type": "markdown",
   "id": "47486050-7035-47c9-8144-856c026a9cd2",
   "metadata": {},
   "source": [
    "this stores all the transformed files to `output_dir`"
   ]
  },
  {
   "cell_type": "code",
   "execution_count": 18,
   "id": "19d6825c-a30d-49fd-b6cf-6acfc6ce93bf",
   "metadata": {},
   "outputs": [],
   "source": [
    "depts_new = {}"
   ]
  },
  {
   "cell_type": "code",
   "execution_count": 19,
   "id": "739da08f-6f7e-43eb-a412-6243b91e78d8",
   "metadata": {},
   "outputs": [],
   "source": [
    "for dep in depts:\n",
    "    depts_new[dep] = []\n",
    "    for clas in depts[dep]:\n",
    "        src = depts[dep][clas]\n",
    "        res = {'key': src['key'], 'name': src['name'], 'desc': '', 'prereq':[], 'schedule':[]}\n",
    "        for sce in src['schedule']:\n",
    "            src2 = src['schedule'][sce]\n",
    "            res2 = {'term': src2['term'], 'section': src2['section'], 'classes':[]}\n",
    "            for clas_type in src2['classes']:\n",
    "                res2['classes'].append(src2['classes'][clas_type])\n",
    "            res['schedule'].append(res2)\n",
    "        depts_new[dep].append(res)"
   ]
  },
  {
   "cell_type": "code",
   "execution_count": 20,
   "id": "9e0174ea-88bd-48bc-9a09-5460c85c3215",
   "metadata": {},
   "outputs": [
    {
     "data": {
      "text/plain": [
       "207"
      ]
     },
     "execution_count": 20,
     "metadata": {},
     "output_type": "execute_result"
    }
   ],
   "source": [
    "len(depts_new)"
   ]
  },
  {
   "cell_type": "code",
   "execution_count": 21,
   "id": "21bde738-362d-43bb-b84f-80346a9d4636",
   "metadata": {
    "tags": []
   },
   "outputs": [],
   "source": [
    "#depts_new['ADMS'][0]"
   ]
  },
  {
   "cell_type": "code",
   "execution_count": 22,
   "id": "2c96f457-06bb-4a68-a0b5-85b2906effeb",
   "metadata": {},
   "outputs": [],
   "source": [
    "def read_dept_list_from_file(file_text):\n",
    "    soup = BeautifulSoup(file_text, 'html.parser')\n",
    "    res = {}\n",
    "\n",
    "    options = soup.find_all('option')\n",
    "    for op in options:\n",
    "        id = op['value']\n",
    "        inner_html = op.string\n",
    "        split = inner_html.split('-')\n",
    "        depcode = split[0].strip()\n",
    "        depname = \"-\".join(split[1:-1]).strip()\n",
    "        faculties = split[-1].replace('(', '').replace(')', '').strip().split(',')\n",
    "        faculties = [f.strip() for f in faculties]\n",
    "        res[depcode] = {\"dept_code\": depcode, \"dept_name\": depname, \"faculties\": faculties}\n",
    "\n",
    "    return res"
   ]
  },
  {
   "cell_type": "code",
   "execution_count": 23,
   "id": "119b5966-6443-43bf-a388-14c6a717f5bf",
   "metadata": {},
   "outputs": [],
   "source": [
    "dept_h_list = read_dept_list_from_file(open(dept_list_file, 'r').read())"
   ]
  },
  {
   "cell_type": "code",
   "execution_count": 24,
   "id": "f3c87684-93b6-47f4-98ef-78022977aef3",
   "metadata": {},
   "outputs": [],
   "source": [
    "for dep in depts_new:\n",
    "    fname = os.path.join(output_dir, dep+'.json')\n",
    "    \n",
    "    obj = {\"dept_code\": dep, \"dept_name\": dept_h_list[dep]['dept_name'], \"faculties\": dept_h_list[dep]['faculties'], \"courses\": depts_new[dep]}\n",
    "    \n",
    "    f = open(fname, 'w')\n",
    "    f.write(json.dumps(obj))\n",
    "    f.close()"
   ]
  },
  {
   "cell_type": "code",
   "execution_count": 25,
   "id": "da14f9cf-fc5a-4f05-8224-848d6463147d",
   "metadata": {},
   "outputs": [],
   "source": [
    "#dept_h_list['EECS']"
   ]
  },
  {
   "cell_type": "markdown",
   "id": "50abc267-c824-41e1-ae57-7da30a7bb263",
   "metadata": {},
   "source": [
    "after running the above codes you will have\n",
    "\n",
    "```\n",
    "<output_dir>\n",
    "|- ACTG.json\n",
    "|- ADLW.json\n",
    "|- ADMS.json\n",
    "...\n",
    "(all the depts)\n",
    "```\n",
    "\n",
    "in the directory specified by `output_dir`"
   ]
  },
  {
   "cell_type": "markdown",
   "id": "30c6120f-caaa-4e46-a649-f4d993d1c383",
   "metadata": {},
   "source": [
    "### Step 3: Transform to `all_rooms_09_12.json`\n",
    "\n",
    "Transform the above json files to one `all_rooms.json` file to be put in EmptyRooms server"
   ]
  },
  {
   "cell_type": "markdown",
   "id": "f67c77d8-8d6e-4878-b461-32cfd6e31307",
   "metadata": {},
   "source": [
    "Change:\\\n",
    "`out_pth` to the directory to store the result file in\\\n",
    "`out_name` will be the name of the result 'all rooms' json file"
   ]
  },
  {
   "cell_type": "code",
   "execution_count": 26,
   "id": "6785931a-c153-4896-8e52-df1d34454e56",
   "metadata": {},
   "outputs": [],
   "source": [
    "in_pth = output_dir\n",
    "out_pth = r'emptyrooms_fw23'\n",
    "out_name = \"all_rooms_09_12_b.json\""
   ]
  },
  {
   "cell_type": "markdown",
   "id": "8c347510-a6b5-45b4-b650-6167b0c8116f",
   "metadata": {},
   "source": [
    "this grabs the above `<DEPT>.json` files and transform them to `all_rooms.json`"
   ]
  },
  {
   "cell_type": "code",
   "execution_count": 27,
   "id": "2a0b0035-97d7-4b2a-ab7e-cb984e706b11",
   "metadata": {},
   "outputs": [
    {
     "name": "stdout",
     "output_type": "stream",
     "text": [
      "{'F': 3615, 'W': 3680, 'F2': 167, 'W2': 161, 'A': 33, 'C': 21, 'N': 21, 'M': 8, 'F3': 18, 'W3': 18, 'Y': 2201, 'B2': 3, 'B4': 6, 'WS': 17, 'B1': 1, 'FA': 4, 'WA': 20, 'FB': 4, 'WL': 11, 'E1': 1, 'FE': 2, 'WB': 15, 'WP': 11, 'LB': 1, 'EF': 15, 'EW': 36, 'ER': 12, 'GH': 3, 'B3': 4, 'LC': 1, 'LA': 1, 'Z1': 6, 'F4': 1, 'W4': 1, 'FP': 3, 'WE': 2, 'FS': 3, 'LD': 2}\n"
     ]
    },
    {
     "data": {
      "text/plain": [
       "3191991"
      ]
     },
     "execution_count": 27,
     "metadata": {},
     "output_type": "execute_result"
    }
   ],
   "source": [
    "dir = os.listdir(in_pth)\n",
    "rooms = {}\n",
    "terms = {}\n",
    "\n",
    "# for each of the files\n",
    "for fil in dir:\n",
    "    if fil[-5:] != '.json':\n",
    "        continue\n",
    "\n",
    "    f = open(os.path.join(in_pth, fil), \"r\")\n",
    "    j = json.loads(f.read())\n",
    "\n",
    "    courses = j[\"courses\"]\n",
    "\n",
    "    for course in courses:\n",
    "        fullcode = course[\"key\"]\n",
    "\n",
    "        faculty = course[\"key\"][\"faculty\"].upper()\n",
    "        dept = course[\"key\"][\"dept\"].upper()\n",
    "        num_code = course[\"key\"][\"code\"]\n",
    "        credit = course[\"key\"][\"credit\"]\n",
    "\n",
    "        formcode = \"{}/{} {} {}\".format(faculty, dept, num_code, credit)\n",
    "        formobj = {\"faculty\": faculty, \"dept\": dept, \"code\": num_code, \"credit\": credit}\n",
    "        sections = course[\"schedule\"]\n",
    "        for sec in sections:\n",
    "            classes = sec[\"classes\"]\n",
    "            term = sec[\"term\"]\n",
    "            if term not in terms:\n",
    "                terms[term] = 0\n",
    "            terms[term] += 1\n",
    "            section = sec[\"section\"]\n",
    "            for cl in classes:\n",
    "                sched = cl[\"timeslot\"]\n",
    "                title = cl[\"name\"].replace(\"   \", \" \").replace(\"  \", \" \")\n",
    "                for item in sched:\n",
    "                    room = item[\"room\"].replace(\"   \", \" \").replace(\"  \", \" \")\n",
    "                    day = item[\"weekday\"]\n",
    "                    time = item[\"time\"]\n",
    "                    duration = item[\"duration\"]\n",
    "\n",
    "                    itemobj = {\"course\": formobj, \"section\": section, \"term\": term, \"title\": title, \"day\": day, \"time\": time, \"duration\": duration, }\n",
    "\n",
    "                    if room in rooms:\n",
    "                        rooms[room].append(itemobj)\n",
    "                    else:\n",
    "                        rooms[room] = [itemobj,]\n",
    "\n",
    "# print terms\n",
    "print(terms)\n",
    "\n",
    "# write back to output\n",
    "outp = json.dumps(rooms)\n",
    "g = open(os.path.join(out_pth, out_name), \"w\")\n",
    "g.write(outp)"
   ]
  },
  {
   "cell_type": "code",
   "execution_count": null,
   "id": "544dc303-aba8-4a7d-b0e5-0fd993fa6547",
   "metadata": {},
   "outputs": [],
   "source": []
  },
  {
   "cell_type": "markdown",
   "id": "36b31e3d-1dd7-47d1-9df8-9abe09764362",
   "metadata": {},
   "source": [
    "### Step 4: Term dates\n",
    "\n",
    "generates the `term_dates.json` file used by EmptyRooms server"
   ]
  },
  {
   "cell_type": "markdown",
   "id": "a2084b66-45bf-4364-a5cb-8cbc40d6be44",
   "metadata": {},
   "source": [
    "- Go to 'Search Course by Term', there wil be a 'Term Start and End Dates' table\n",
    "- Save the table as a text file \n",
    "  - Inspect element -> `Ctrl + C` the whole `<table ...>` tag\n",
    "- follow the next steps"
   ]
  },
  {
   "cell_type": "markdown",
   "id": "d277d7b3-3bd2-4a5c-9984-046e67975c37",
   "metadata": {},
   "source": [
    "Change:\n",
    "`in_pth` to saved text file\n",
    "`out_pth` to the path you want to store the `term_dates.json` file\n",
    "`year` to current year (year of start of term, put 2023 for F23-W24)"
   ]
  },
  {
   "cell_type": "code",
   "execution_count": 29,
   "id": "c9aa74d5-c211-4536-84f1-7317cbbf07d5",
   "metadata": {},
   "outputs": [],
   "source": [
    "in_pth = r'..\\scraped backup\\emptyrooms_fw23\\term_dates_23_24_b.txt'\n",
    "out_pth = r'..\\scraped backup\\emptyrooms_fw23\\term_dates_23_24_b.json'\n",
    "year = 2023"
   ]
  },
  {
   "cell_type": "code",
   "execution_count": 30,
   "id": "eac95059-09ff-4ab1-afc7-0c00c845923c",
   "metadata": {},
   "outputs": [],
   "source": [
    "months = {\"jan\": 1, \"feb\":2, \"mar\":3, \"apr\":4, \"may\":5, \"jun\":6, \"jul\":7, \"aug\":8, \"sep\":9, \"oct\":10, \"nov\":11, \"dec\":12}\n",
    "\n",
    "# process a date in the format of 'March 2', 'Sept. 16', etc. found on the page\n",
    "def date_process(st, year):\n",
    "    sp = st.split(' ')\n",
    "    if len(sp) < 2: # for the \"TBD\" case\n",
    "        return str(year) + \"-04-31\"\n",
    "    month = months[sp[0].lower()[:3]]\n",
    "    if month == None:\n",
    "        return str(year) + \"-04-31\"\n",
    "    day = sp[1]\n",
    "    if month > 8 or (month == 8 and day > 15):\n",
    "        return \"{}-{:02d}-{:02d}\".format(year, month, day)\n",
    "    else:\n",
    "        return \"{}-{:02d}-{:02d}\".format(year+1, month, day)"
   ]
  },
  {
   "cell_type": "code",
   "execution_count": 31,
   "id": "60fb5f5b-e6ab-420c-ae58-29277b161ae2",
   "metadata": {},
   "outputs": [
    {
     "data": {
      "text/plain": [
       "6853"
      ]
     },
     "execution_count": 34,
     "metadata": {},
     "output_type": "execute_result"
    }
   ],
   "source": [
    "f = open(in_pth)\n",
    "soup = BeautifulSoup(f.read(), 'html.parser')\n",
    "trs = soup.find_all('tbody')[0].find_all('tr')\n",
    "\n",
    "res = []\n",
    "for tr in trs[1:]:\n",
    "    tds = tr.find_all('td')\n",
    "    term = tds[0].text\n",
    "    faculty = tds[1].text\n",
    "    # start = date_process(tds[2].text, year)\n",
    "    # end = date_process(tds[-1].text, year)\n",
    "    start = datetime.strptime(tds[2].text, \"%b %d, %Y\").strftime(\"%Y-%m-%d\")\n",
    "    end = datetime.strptime(tds[-1].text, \"%b %d, %Y\").strftime(\"%Y-%m-%d\")\n",
    "    res.append({\"term\": term, \"faculty\": faculty, \"start\": start, \"end\": end})\n",
    "\n",
    "# write back to output\n",
    "outp = json.dumps(res)\n",
    "g = open(out_pth, \"w\")\n",
    "g.write(outp)"
   ]
  },
  {
   "cell_type": "code",
   "execution_count": null,
   "id": "2080499c-3e4e-4728-90ca-fce8ef62cf5f",
   "metadata": {},
   "outputs": [],
   "source": []
  }
 ],
 "metadata": {
  "kernelspec": {
   "display_name": "Python 3 (ipykernel)",
   "language": "python",
   "name": "python3"
  },
  "language_info": {
   "codemirror_mode": {
    "name": "ipython",
    "version": 3
   },
   "file_extension": ".py",
   "mimetype": "text/x-python",
   "name": "python",
   "nbconvert_exporter": "python",
   "pygments_lexer": "ipython3",
   "version": "3.10.8"
  }
 },
 "nbformat": 4,
 "nbformat_minor": 5
}
